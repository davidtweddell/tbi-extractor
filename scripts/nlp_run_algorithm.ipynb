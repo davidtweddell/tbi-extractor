{
 "cells": [
  {
   "cell_type": "markdown",
   "metadata": {},
   "source": [
    "# Example for using TBI Extractor"
   ]
  },
  {
   "cell_type": "markdown",
   "metadata": {},
   "source": [
    "Depending upon your installation, you may get \"RuntimeWarning\" from NumPy. These warnings are visible whenever you import a package that was compiled against an older NumPy than is installed. Ignore these with the following code."
   ]
  },
  {
   "cell_type": "code",
   "execution_count": 1,
   "metadata": {},
   "outputs": [],
   "source": [
    "# ignore warnings\n",
    "import warnings\n",
    "warnings.filterwarnings(\"ignore\", message=\"numpy.dtype size changed\")\n",
    "warnings.filterwarnings(\"ignore\", message=\"numpy.ufunc size changed\")"
   ]
  },
  {
   "cell_type": "code",
   "execution_count": 2,
   "metadata": {},
   "outputs": [],
   "source": [
    "# imports\n",
    "# Python     3.6.6\n",
    "# pandas     0.23.4\n",
    "import pandas as pd\n",
    "import nlp_algorithm\n",
    "import nlp_summarize\n",
    "import datetime"
   ]
  },
  {
   "cell_type": "markdown",
   "metadata": {},
   "source": [
    "Directory structure under root directory should be as follows:\n",
    "\n",
    "> data\n",
    "        \n",
    "            example_df.csv\n",
    "            lexical_modifiers.tsv\n",
    "            lexical_targets.tsv\n",
    "        \n",
    "        \n",
    "> scripts\n",
    "        \n",
    "            nlp_algorithm.py\n",
    "            nlp_run_algorithm.ipynb\n",
    "            nlp_summarize.py"
   ]
  },
  {
   "cell_type": "code",
   "execution_count": 3,
   "metadata": {},
   "outputs": [
    {
     "name": "stdout",
     "output_type": "stream",
     "text": [
      "Enter root directory path: /data1/nlp/tbiExtractor\n"
     ]
    }
   ],
   "source": [
    "# inputs and outputs\n",
    "root_path = input('Enter root directory path: ') # example: '/data1/nlp/tbiExtractor'\n",
    "data_path = root_path + '/data'"
   ]
  },
  {
   "cell_type": "code",
   "execution_count": 4,
   "metadata": {},
   "outputs": [],
   "source": [
    "# load example df\n",
    "infile = data_path + '/example_df.csv'\n",
    "df_to_algorithm = pd.read_csv(infile, dtype=str)    "
   ]
  },
  {
   "cell_type": "code",
   "execution_count": 5,
   "metadata": {},
   "outputs": [
    {
     "data": {
      "text/html": [
       "<div>\n",
       "<style scoped>\n",
       "    .dataframe tbody tr th:only-of-type {\n",
       "        vertical-align: middle;\n",
       "    }\n",
       "\n",
       "    .dataframe tbody tr th {\n",
       "        vertical-align: top;\n",
       "    }\n",
       "\n",
       "    .dataframe thead th {\n",
       "        text-align: right;\n",
       "    }\n",
       "</style>\n",
       "<table border=\"1\" class=\"dataframe\">\n",
       "  <thead>\n",
       "    <tr style=\"text-align: right;\">\n",
       "      <th></th>\n",
       "      <th>PatientNum</th>\n",
       "      <th>CT_report</th>\n",
       "      <th>CT_report_id</th>\n",
       "    </tr>\n",
       "  </thead>\n",
       "  <tbody>\n",
       "    <tr>\n",
       "      <th>0</th>\n",
       "      <td>1001</td>\n",
       "      <td>Findings: There is hyperattenuation predominan...</td>\n",
       "      <td>321306</td>\n",
       "    </tr>\n",
       "    <tr>\n",
       "      <th>1</th>\n",
       "      <td>1002</td>\n",
       "      <td>Findings: There is no definite evidence of int...</td>\n",
       "      <td>502453</td>\n",
       "    </tr>\n",
       "  </tbody>\n",
       "</table>\n",
       "</div>"
      ],
      "text/plain": [
       "  PatientNum                                          CT_report CT_report_id\n",
       "0       1001  Findings: There is hyperattenuation predominan...       321306\n",
       "1       1002  Findings: There is no definite evidence of int...       502453"
      ]
     },
     "execution_count": 5,
     "metadata": {},
     "output_type": "execute_result"
    }
   ],
   "source": [
    "# show structure of df_to_algorithm\n",
    "df_to_algorithm.head()"
   ]
  },
  {
   "cell_type": "code",
   "execution_count": 6,
   "metadata": {},
   "outputs": [],
   "source": [
    "# submit data to main nlp algorithm and reset index\n",
    "filepart = 'example'\n",
    "df_from_algorithm = nlp_algorithm.main_nlp(df_to_algorithm, filepart, data_path)\n",
    "df_from_algorithm = df_from_algorithm.reset_index()\n",
    "df_from_algorithm.drop(columns='index', inplace=True)"
   ]
  },
  {
   "cell_type": "code",
   "execution_count": 7,
   "metadata": {},
   "outputs": [
    {
     "data": {
      "text/html": [
       "<div>\n",
       "<style scoped>\n",
       "    .dataframe tbody tr th:only-of-type {\n",
       "        vertical-align: middle;\n",
       "    }\n",
       "\n",
       "    .dataframe tbody tr th {\n",
       "        vertical-align: top;\n",
       "    }\n",
       "\n",
       "    .dataframe thead th {\n",
       "        text-align: right;\n",
       "    }\n",
       "</style>\n",
       "<table border=\"1\" class=\"dataframe\">\n",
       "  <thead>\n",
       "    <tr style=\"text-align: right;\">\n",
       "      <th></th>\n",
       "      <th>CT_report_id</th>\n",
       "      <th>target</th>\n",
       "      <th>target_group</th>\n",
       "      <th>modifier</th>\n",
       "      <th>modifier_type</th>\n",
       "    </tr>\n",
       "  </thead>\n",
       "  <tbody>\n",
       "    <tr>\n",
       "      <th>0</th>\n",
       "      <td>321306</td>\n",
       "      <td>shear</td>\n",
       "      <td>diffuse_axonal</td>\n",
       "      <td>severe</td>\n",
       "      <td>present</td>\n",
       "    </tr>\n",
       "    <tr>\n",
       "      <th>1</th>\n",
       "      <td>321306</td>\n",
       "      <td>parenchymal hemorrhages,</td>\n",
       "      <td>intraparenchymal_hemorrage</td>\n",
       "      <td>multifocal</td>\n",
       "      <td>present</td>\n",
       "    </tr>\n",
       "    <tr>\n",
       "      <th>2</th>\n",
       "      <td>321306</td>\n",
       "      <td>suprasellar cistern</td>\n",
       "      <td>cistern</td>\n",
       "      <td>leftward</td>\n",
       "      <td>present</td>\n",
       "    </tr>\n",
       "    <tr>\n",
       "      <th>3</th>\n",
       "      <td>321306</td>\n",
       "      <td>hemorrhage is noted in the occipital horn</td>\n",
       "      <td>intraventricular_hemorrhage</td>\n",
       "      <td>additional</td>\n",
       "      <td>present</td>\n",
       "    </tr>\n",
       "    <tr>\n",
       "      <th>4</th>\n",
       "      <td>321306</td>\n",
       "      <td>subarachnoid hemorrhage</td>\n",
       "      <td>subarachnoid_hemorrhage</td>\n",
       "      <td>multifocal</td>\n",
       "      <td>present</td>\n",
       "    </tr>\n",
       "  </tbody>\n",
       "</table>\n",
       "</div>"
      ],
      "text/plain": [
       "  CT_report_id                                     target  \\\n",
       "0       321306                                      shear   \n",
       "1       321306                  parenchymal hemorrhages,    \n",
       "2       321306                        suprasellar cistern   \n",
       "3       321306  hemorrhage is noted in the occipital horn   \n",
       "4       321306                   subarachnoid hemorrhage    \n",
       "\n",
       "                  target_group    modifier modifier_type  \n",
       "0               diffuse_axonal      severe       present  \n",
       "1   intraparenchymal_hemorrage  multifocal       present  \n",
       "2                      cistern    leftward       present  \n",
       "3  intraventricular_hemorrhage  additional       present  \n",
       "4      subarachnoid_hemorrhage  multifocal       present  "
      ]
     },
     "execution_count": 7,
     "metadata": {},
     "output_type": "execute_result"
    }
   ],
   "source": [
    "# show structure of df_from_algorithm\n",
    "df_from_algorithm.head()"
   ]
  },
  {
   "cell_type": "code",
   "execution_count": 8,
   "metadata": {},
   "outputs": [],
   "source": [
    "# load target list\n",
    "targets = pd.read_csv(data_path + '/lexical_targets.tsv', delimiter='\\t')\n",
    "target_list = list(targets['Type'].drop_duplicates(keep='first').str.lower())"
   ]
  },
  {
   "cell_type": "code",
   "execution_count": 9,
   "metadata": {},
   "outputs": [],
   "source": [
    "# get unique ct report ids\n",
    "ct_report_id_unique = list(df_from_algorithm['CT_report_id'].drop_duplicates(keep='first').astype(str).str.lower())"
   ]
  },
  {
   "cell_type": "code",
   "execution_count": 10,
   "metadata": {},
   "outputs": [],
   "source": [
    "# for each report, summarize\n",
    "for ct_report in ct_report_id_unique:\n",
    "    \n",
    "    df_from_algorithm = nlp_summarize.ct_summary_report(df_from_algorithm, ct_report, target_list)"
   ]
  },
  {
   "cell_type": "code",
   "execution_count": 11,
   "metadata": {},
   "outputs": [],
   "source": [
    "# setup output file\n",
    "get_today = datetime.date.today()\n",
    "outfile = data_path + '/nlp_algorithm_output_summarized_' + filepart + '_' + str(get_today) + '.csv'"
   ]
  },
  {
   "cell_type": "code",
   "execution_count": 12,
   "metadata": {},
   "outputs": [],
   "source": [
    "# write output to file\n",
    "df_from_algorithm.to_csv(outfile, index=False)  "
   ]
  },
  {
   "cell_type": "code",
   "execution_count": 13,
   "metadata": {},
   "outputs": [],
   "source": [
    "# pivot to create one report per row with each target in a column\n",
    "pivot_df = df_from_algorithm.pivot(index='CT_report_id', columns='target_group', values='modifier_type')"
   ]
  },
  {
   "cell_type": "code",
   "execution_count": 14,
   "metadata": {},
   "outputs": [
    {
     "data": {
      "text/html": [
       "<div>\n",
       "<style scoped>\n",
       "    .dataframe tbody tr th:only-of-type {\n",
       "        vertical-align: middle;\n",
       "    }\n",
       "\n",
       "    .dataframe tbody tr th {\n",
       "        vertical-align: top;\n",
       "    }\n",
       "\n",
       "    .dataframe thead th {\n",
       "        text-align: right;\n",
       "    }\n",
       "</style>\n",
       "<table border=\"1\" class=\"dataframe\">\n",
       "  <thead>\n",
       "    <tr style=\"text-align: right;\">\n",
       "      <th>target_group</th>\n",
       "      <th>aneurysm</th>\n",
       "      <th>anoxic</th>\n",
       "      <th>atrophy</th>\n",
       "      <th>cistern</th>\n",
       "      <th>contusion</th>\n",
       "      <th>diffuse_axonal</th>\n",
       "      <th>epidural_hemorrhage</th>\n",
       "      <th>facial_fracture</th>\n",
       "      <th>fluid</th>\n",
       "      <th>gray_white_differentiation</th>\n",
       "      <th>...</th>\n",
       "      <th>intraventricular_hemorrhage</th>\n",
       "      <th>ischemia</th>\n",
       "      <th>mass_effect</th>\n",
       "      <th>microhemorrhage</th>\n",
       "      <th>midline_shift</th>\n",
       "      <th>pneumocephalus</th>\n",
       "      <th>skull_fracture</th>\n",
       "      <th>subarachnoid_hemorrhage</th>\n",
       "      <th>subdural_hemorrhage</th>\n",
       "      <th>swelling</th>\n",
       "    </tr>\n",
       "    <tr>\n",
       "      <th>CT_report_id</th>\n",
       "      <th></th>\n",
       "      <th></th>\n",
       "      <th></th>\n",
       "      <th></th>\n",
       "      <th></th>\n",
       "      <th></th>\n",
       "      <th></th>\n",
       "      <th></th>\n",
       "      <th></th>\n",
       "      <th></th>\n",
       "      <th></th>\n",
       "      <th></th>\n",
       "      <th></th>\n",
       "      <th></th>\n",
       "      <th></th>\n",
       "      <th></th>\n",
       "      <th></th>\n",
       "      <th></th>\n",
       "      <th></th>\n",
       "      <th></th>\n",
       "      <th></th>\n",
       "    </tr>\n",
       "  </thead>\n",
       "  <tbody>\n",
       "    <tr>\n",
       "      <th>321306</th>\n",
       "      <td>absent</td>\n",
       "      <td>absent</td>\n",
       "      <td>absent</td>\n",
       "      <td>abnormal</td>\n",
       "      <td>absent</td>\n",
       "      <td>present</td>\n",
       "      <td>absent</td>\n",
       "      <td>absent</td>\n",
       "      <td>present</td>\n",
       "      <td>normal</td>\n",
       "      <td>...</td>\n",
       "      <td>present</td>\n",
       "      <td>absent</td>\n",
       "      <td>absent</td>\n",
       "      <td>absent</td>\n",
       "      <td>absent</td>\n",
       "      <td>absent</td>\n",
       "      <td>absent</td>\n",
       "      <td>present</td>\n",
       "      <td>absent</td>\n",
       "      <td>absent</td>\n",
       "    </tr>\n",
       "    <tr>\n",
       "      <th>502453</th>\n",
       "      <td>absent</td>\n",
       "      <td>present</td>\n",
       "      <td>absent</td>\n",
       "      <td>normal</td>\n",
       "      <td>absent</td>\n",
       "      <td>present</td>\n",
       "      <td>absent</td>\n",
       "      <td>present</td>\n",
       "      <td>absent</td>\n",
       "      <td>abnormal</td>\n",
       "      <td>...</td>\n",
       "      <td>absent</td>\n",
       "      <td>absent</td>\n",
       "      <td>absent</td>\n",
       "      <td>absent</td>\n",
       "      <td>absent</td>\n",
       "      <td>absent</td>\n",
       "      <td>present</td>\n",
       "      <td>absent</td>\n",
       "      <td>absent</td>\n",
       "      <td>present</td>\n",
       "    </tr>\n",
       "  </tbody>\n",
       "</table>\n",
       "<p>2 rows × 27 columns</p>\n",
       "</div>"
      ],
      "text/plain": [
       "target_group aneurysm   anoxic atrophy   cistern contusion diffuse_axonal  \\\n",
       "CT_report_id                                                                \n",
       "321306         absent   absent  absent  abnormal    absent        present   \n",
       "502453         absent  present  absent    normal    absent        present   \n",
       "\n",
       "target_group epidural_hemorrhage facial_fracture    fluid  \\\n",
       "CT_report_id                                                \n",
       "321306                    absent          absent  present   \n",
       "502453                    absent         present   absent   \n",
       "\n",
       "target_group gray_white_differentiation   ...    intraventricular_hemorrhage  \\\n",
       "CT_report_id                              ...                                  \n",
       "321306                           normal   ...                        present   \n",
       "502453                         abnormal   ...                         absent   \n",
       "\n",
       "target_group ischemia mass_effect microhemorrhage midline_shift  \\\n",
       "CT_report_id                                                      \n",
       "321306         absent      absent          absent        absent   \n",
       "502453         absent      absent          absent        absent   \n",
       "\n",
       "target_group pneumocephalus skull_fracture subarachnoid_hemorrhage  \\\n",
       "CT_report_id                                                         \n",
       "321306               absent         absent                 present   \n",
       "502453               absent        present                  absent   \n",
       "\n",
       "target_group subdural_hemorrhage swelling  \n",
       "CT_report_id                               \n",
       "321306                    absent   absent  \n",
       "502453                    absent  present  \n",
       "\n",
       "[2 rows x 27 columns]"
      ]
     },
     "execution_count": 14,
     "metadata": {},
     "output_type": "execute_result"
    }
   ],
   "source": [
    "# show structure of pivot_df\n",
    "pivot_df"
   ]
  },
  {
   "cell_type": "code",
   "execution_count": 15,
   "metadata": {},
   "outputs": [
    {
     "data": {
      "text/html": [
       "<div>\n",
       "<style scoped>\n",
       "    .dataframe tbody tr th:only-of-type {\n",
       "        vertical-align: middle;\n",
       "    }\n",
       "\n",
       "    .dataframe tbody tr th {\n",
       "        vertical-align: top;\n",
       "    }\n",
       "\n",
       "    .dataframe thead th {\n",
       "        text-align: right;\n",
       "    }\n",
       "</style>\n",
       "<table border=\"1\" class=\"dataframe\">\n",
       "  <thead>\n",
       "    <tr style=\"text-align: right;\">\n",
       "      <th>CT_report_id</th>\n",
       "      <th>321306</th>\n",
       "      <th>502453</th>\n",
       "    </tr>\n",
       "    <tr>\n",
       "      <th>target_group</th>\n",
       "      <th></th>\n",
       "      <th></th>\n",
       "    </tr>\n",
       "  </thead>\n",
       "  <tbody>\n",
       "    <tr>\n",
       "      <th>aneurysm</th>\n",
       "      <td>absent</td>\n",
       "      <td>absent</td>\n",
       "    </tr>\n",
       "    <tr>\n",
       "      <th>anoxic</th>\n",
       "      <td>absent</td>\n",
       "      <td>present</td>\n",
       "    </tr>\n",
       "    <tr>\n",
       "      <th>atrophy</th>\n",
       "      <td>absent</td>\n",
       "      <td>absent</td>\n",
       "    </tr>\n",
       "    <tr>\n",
       "      <th>cistern</th>\n",
       "      <td>abnormal</td>\n",
       "      <td>normal</td>\n",
       "    </tr>\n",
       "    <tr>\n",
       "      <th>contusion</th>\n",
       "      <td>absent</td>\n",
       "      <td>absent</td>\n",
       "    </tr>\n",
       "    <tr>\n",
       "      <th>diffuse_axonal</th>\n",
       "      <td>present</td>\n",
       "      <td>present</td>\n",
       "    </tr>\n",
       "    <tr>\n",
       "      <th>epidural_hemorrhage</th>\n",
       "      <td>absent</td>\n",
       "      <td>absent</td>\n",
       "    </tr>\n",
       "    <tr>\n",
       "      <th>facial_fracture</th>\n",
       "      <td>absent</td>\n",
       "      <td>present</td>\n",
       "    </tr>\n",
       "    <tr>\n",
       "      <th>fluid</th>\n",
       "      <td>present</td>\n",
       "      <td>absent</td>\n",
       "    </tr>\n",
       "    <tr>\n",
       "      <th>gray_white_differentiation</th>\n",
       "      <td>normal</td>\n",
       "      <td>abnormal</td>\n",
       "    </tr>\n",
       "    <tr>\n",
       "      <th>hemorrhage</th>\n",
       "      <td>absent</td>\n",
       "      <td>absent</td>\n",
       "    </tr>\n",
       "    <tr>\n",
       "      <th>herniation</th>\n",
       "      <td>absent</td>\n",
       "      <td>absent</td>\n",
       "    </tr>\n",
       "    <tr>\n",
       "      <th>hydrocephalus</th>\n",
       "      <td>absent</td>\n",
       "      <td>absent</td>\n",
       "    </tr>\n",
       "    <tr>\n",
       "      <th>hyperdensities</th>\n",
       "      <td>present</td>\n",
       "      <td>present</td>\n",
       "    </tr>\n",
       "    <tr>\n",
       "      <th>hypodensities</th>\n",
       "      <td>absent</td>\n",
       "      <td>absent</td>\n",
       "    </tr>\n",
       "    <tr>\n",
       "      <th>intracranial_pathology</th>\n",
       "      <td>present</td>\n",
       "      <td>present</td>\n",
       "    </tr>\n",
       "    <tr>\n",
       "      <th>intraparenchymal_hemorrage</th>\n",
       "      <td>present</td>\n",
       "      <td>absent</td>\n",
       "    </tr>\n",
       "    <tr>\n",
       "      <th>intraventricular_hemorrhage</th>\n",
       "      <td>present</td>\n",
       "      <td>absent</td>\n",
       "    </tr>\n",
       "    <tr>\n",
       "      <th>ischemia</th>\n",
       "      <td>absent</td>\n",
       "      <td>absent</td>\n",
       "    </tr>\n",
       "    <tr>\n",
       "      <th>mass_effect</th>\n",
       "      <td>absent</td>\n",
       "      <td>absent</td>\n",
       "    </tr>\n",
       "    <tr>\n",
       "      <th>microhemorrhage</th>\n",
       "      <td>absent</td>\n",
       "      <td>absent</td>\n",
       "    </tr>\n",
       "    <tr>\n",
       "      <th>midline_shift</th>\n",
       "      <td>absent</td>\n",
       "      <td>absent</td>\n",
       "    </tr>\n",
       "    <tr>\n",
       "      <th>pneumocephalus</th>\n",
       "      <td>absent</td>\n",
       "      <td>absent</td>\n",
       "    </tr>\n",
       "    <tr>\n",
       "      <th>skull_fracture</th>\n",
       "      <td>absent</td>\n",
       "      <td>present</td>\n",
       "    </tr>\n",
       "    <tr>\n",
       "      <th>subarachnoid_hemorrhage</th>\n",
       "      <td>present</td>\n",
       "      <td>absent</td>\n",
       "    </tr>\n",
       "    <tr>\n",
       "      <th>subdural_hemorrhage</th>\n",
       "      <td>absent</td>\n",
       "      <td>absent</td>\n",
       "    </tr>\n",
       "    <tr>\n",
       "      <th>swelling</th>\n",
       "      <td>absent</td>\n",
       "      <td>present</td>\n",
       "    </tr>\n",
       "  </tbody>\n",
       "</table>\n",
       "</div>"
      ],
      "text/plain": [
       "CT_report_id                   321306    502453\n",
       "target_group                                   \n",
       "aneurysm                       absent    absent\n",
       "anoxic                         absent   present\n",
       "atrophy                        absent    absent\n",
       "cistern                      abnormal    normal\n",
       "contusion                      absent    absent\n",
       "diffuse_axonal                present   present\n",
       "epidural_hemorrhage            absent    absent\n",
       "facial_fracture                absent   present\n",
       "fluid                         present    absent\n",
       "gray_white_differentiation     normal  abnormal\n",
       "hemorrhage                     absent    absent\n",
       "herniation                     absent    absent\n",
       "hydrocephalus                  absent    absent\n",
       "hyperdensities                present   present\n",
       "hypodensities                  absent    absent\n",
       "intracranial_pathology        present   present\n",
       "intraparenchymal_hemorrage    present    absent\n",
       "intraventricular_hemorrhage   present    absent\n",
       "ischemia                       absent    absent\n",
       "mass_effect                    absent    absent\n",
       "microhemorrhage                absent    absent\n",
       "midline_shift                  absent    absent\n",
       "pneumocephalus                 absent    absent\n",
       "skull_fracture                 absent   present\n",
       "subarachnoid_hemorrhage       present    absent\n",
       "subdural_hemorrhage            absent    absent\n",
       "swelling                       absent   present"
      ]
     },
     "execution_count": 15,
     "metadata": {},
     "output_type": "execute_result"
    }
   ],
   "source": [
    "# transpose to show full results\n",
    "pivot_df.transpose()"
   ]
  },
  {
   "cell_type": "code",
   "execution_count": 16,
   "metadata": {},
   "outputs": [
    {
     "data": {
      "text/plain": [
       "'Findings: There is hyperattenuation predominantly involving the right sylvian fissure, left superior parietal sulci, right cingulate sulci and in the quadrigeminal cistern. There is layering hyperattenuation within the occipital horn of the left lateral ventricle. There is layering hyperattenuation in the suprasellar cistern. Hyperattenuation is noted around the partially visualized spinal cord. Foci of parenchymal hemorrhages are noted in the inferior right temporal lobe, left frontal lobe and the right subthalamic nuclei. There is no significant midline shift. The bony calvarium and the bones of the skull base appear normal. The visualized portions of the paranasal sinuses and the mastoid air cells are clear. No external soft tissue swelling. The orbits are unremarkable. There is a small amount of fluid in the right sphenoid sinus. Impression: 1. Multifocal subarachnoid hemorrhage as described above most notably in the right sylvian fissure and left superior parietal lobe. Hemorrhage is noted around the brainstem and cerebral convexities, right greater than left. Additional layering hemorrhage is noted in the occipital horn of the left lateral ventricle, suprasellar cistern and superior vermian cistern. 2. Multifocal parenchymal hemorrhages, most notably in the right temporal lobe, left frontal lobe, and right subthalamic nuclei. Findings are consistent with severe shear injury.'"
      ]
     },
     "execution_count": 16,
     "metadata": {},
     "output_type": "execute_result"
    }
   ],
   "source": [
    "# compare above results to report\n",
    "df_to_algorithm.loc[df_to_algorithm['CT_report_id'] == '321306', 'CT_report'].item()"
   ]
  },
  {
   "cell_type": "code",
   "execution_count": 17,
   "metadata": {},
   "outputs": [
    {
     "data": {
      "text/plain": [
       "'Findings: There is no definite evidence of intracranial hemorrhage, mass effect, midline shift or abnormal extraaxial fluid collection. There are numerous subtle punctate hyperdense foci scattered throughout the brain. The ventricles do not appear enlarged out of proportion to the cerebral sulci. Gray-white differentiation subtle a slightly decreased. There is subtle diffuse swelling of the brain. There are multiple skull base fractures and extensive facial fractures which will be more completely detailed on the accompanying facial bone CT reconstructions. There are mildly displaced bilateral frontal bone fractures through the anterior table of the frontal sinuses and nondisplaced fracture of the greater wing of the right sphenoid.. There are extensive sinus fractures with near complete opacification of the maxillary sinuses, ethmoid air cells, and sphenoid sinuses. There are a few scattered left ethmoid air cell opacities. Right ethmoid air cells are relatively clear.. There are multiple foci of subcutaneous emphysema and large dermal defects scattered throughout the frontal scalp and the soft tissues of the face with soft tissue edema. Impression: 1. No definite acute intracranial hemorrhage is identified. Several punctate densities could possibly represent early signs of hemorrhage, perhaps the earliest visual evidence for axonal injuries, but overall not definitive. 2. Suspicion for diffuse subtle edema of the brain without loss of all gray-white differentiation. This is a nonspecific finding that may represent the earliest indication of diffuse edema from trauma or hypoxic ischemic encephalopathy, or some combination HIE and traumatic edema. 3. Complex facial and skull base fractures will be more completely detailed on the accompanying facial bones CT.'"
      ]
     },
     "execution_count": 17,
     "metadata": {},
     "output_type": "execute_result"
    }
   ],
   "source": [
    "# compare above results to report\n",
    "df_to_algorithm.loc[df_to_algorithm['CT_report_id'] == '502453', 'CT_report'].item()"
   ]
  },
  {
   "cell_type": "code",
   "execution_count": 18,
   "metadata": {},
   "outputs": [],
   "source": [
    "# setup output file\n",
    "get_today = datetime.date.today()\n",
    "outfile = data_path + '/nlp_report_output_' + filepart + '_' + str(get_today) + '.csv'"
   ]
  },
  {
   "cell_type": "code",
   "execution_count": 19,
   "metadata": {},
   "outputs": [],
   "source": [
    "# write output to file\n",
    "pivot_df.to_csv(outfile, index=False)  "
   ]
  },
  {
   "cell_type": "markdown",
   "metadata": {},
   "source": [
    "# eof"
   ]
  }
 ],
 "metadata": {
  "kernelspec": {
   "display_name": "Python 3",
   "language": "python",
   "name": "python3"
  },
  "language_info": {
   "codemirror_mode": {
    "name": "ipython",
    "version": 3
   },
   "file_extension": ".py",
   "mimetype": "text/x-python",
   "name": "python",
   "nbconvert_exporter": "python",
   "pygments_lexer": "ipython3",
   "version": "3.6.6"
  }
 },
 "nbformat": 4,
 "nbformat_minor": 2
}
